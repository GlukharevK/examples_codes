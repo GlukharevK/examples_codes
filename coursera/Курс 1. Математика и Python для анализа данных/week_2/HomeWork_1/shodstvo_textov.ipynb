{
 "cells": [
  {
   "cell_type": "code",
   "execution_count": 168,
   "metadata": {},
   "outputs": [],
   "source": [
    "import pandas as pd\n",
    "import numpy as np\n",
    "import scipy as sp\n",
    "import re\n",
    "from collections import defaultdict\n",
    "from scipy.spatial import distance"
   ]
  },
  {
   "cell_type": "code",
   "execution_count": 75,
   "metadata": {},
   "outputs": [],
   "source": [
    "with open('text.txt') as f:\n",
    "    text = f.readlines()"
   ]
  },
  {
   "cell_type": "code",
   "execution_count": 76,
   "metadata": {},
   "outputs": [],
   "source": [
    "mass_senc = text"
   ]
  },
  {
   "cell_type": "code",
   "execution_count": 77,
   "metadata": {},
   "outputs": [],
   "source": [
    "text = ' '.join(text)"
   ]
  },
  {
   "cell_type": "code",
   "execution_count": 78,
   "metadata": {},
   "outputs": [],
   "source": [
    "text = text.lower()"
   ]
  },
  {
   "cell_type": "code",
   "execution_count": 79,
   "metadata": {},
   "outputs": [],
   "source": [
    "text = re.split(r'[^a-z]', text)"
   ]
  },
  {
   "cell_type": "code",
   "execution_count": 80,
   "metadata": {},
   "outputs": [],
   "source": [
    "words = list(set(filter(lambda x : x != '', text)))"
   ]
  },
  {
   "cell_type": "code",
   "execution_count": 81,
   "metadata": {},
   "outputs": [
    {
     "data": {
      "text/plain": [
       "254"
      ]
     },
     "execution_count": 81,
     "metadata": {},
     "output_type": "execute_result"
    }
   ],
   "source": [
    "len(words)"
   ]
  },
  {
   "cell_type": "code",
   "execution_count": 94,
   "metadata": {},
   "outputs": [],
   "source": [
    "mass_senc = list(map(str.lower, mass_senc))"
   ]
  },
  {
   "cell_type": "code",
   "execution_count": 97,
   "metadata": {},
   "outputs": [],
   "source": [
    "mass_senc = list(map(str.strip, mass_senc))"
   ]
  },
  {
   "cell_type": "code",
   "execution_count": 101,
   "metadata": {},
   "outputs": [],
   "source": [
    "mass_senc = list(map(lambda s : re.split(r'[^a-z]', s), mass_senc))"
   ]
  },
  {
   "cell_type": "code",
   "execution_count": 109,
   "metadata": {},
   "outputs": [],
   "source": [
    "mass_senc = list(map(lambda x : ' '.join(x), mass_senc))"
   ]
  },
  {
   "cell_type": "code",
   "execution_count": 111,
   "metadata": {
    "scrolled": true
   },
   "outputs": [
    {
     "data": {
      "text/plain": [
       "['streams',\n",
       " 'stdin',\n",
       " 'allows',\n",
       " 'used',\n",
       " 'frequency',\n",
       " 'selection',\n",
       " 'between',\n",
       " 'unnecessary',\n",
       " 'running',\n",
       " 'felis',\n",
       " 'non',\n",
       " 'rather',\n",
       " 'named',\n",
       " 'yosemite',\n",
       " 'possess',\n",
       " 'hear',\n",
       " 'developed',\n",
       " 'useful',\n",
       " 'or',\n",
       " 'made',\n",
       " 'its',\n",
       " 'patch',\n",
       " 'safari',\n",
       " 'is',\n",
       " 'keyboards',\n",
       " 'than',\n",
       " 'by',\n",
       " 'have',\n",
       " 'members',\n",
       " 'binary',\n",
       " 'mountain',\n",
       " 'allow',\n",
       " 'interactive',\n",
       " 'displays',\n",
       " 'a',\n",
       " 'october',\n",
       " 'sounds',\n",
       " 'linux',\n",
       " 'delete',\n",
       " 'output',\n",
       " 'available',\n",
       " 'no',\n",
       " 'adjacent',\n",
       " 'content',\n",
       " 'cat',\n",
       " 'stdout',\n",
       " 'terms',\n",
       " 'files',\n",
       " 'however',\n",
       " 'more',\n",
       " 'that',\n",
       " 'intel',\n",
       " 'using',\n",
       " 'legibility',\n",
       " 'which',\n",
       " 'artificial',\n",
       " 'based',\n",
       " 'year',\n",
       " 'domestication',\n",
       " 'those',\n",
       " 'too',\n",
       " 'were',\n",
       " 'installation',\n",
       " 'and',\n",
       " 'released',\n",
       " 'as',\n",
       " 'sequence',\n",
       " 'piped',\n",
       " 'versions',\n",
       " 'place',\n",
       " 'cats',\n",
       " 'other',\n",
       " 'enhancements',\n",
       " 'chromosomes',\n",
       " 'mac',\n",
       " 'similar',\n",
       " 'firmware',\n",
       " 'redirected',\n",
       " 'on',\n",
       " 'july',\n",
       " 'features',\n",
       " 'osx',\n",
       " 'through',\n",
       " 'the',\n",
       " 'changes',\n",
       " 'so',\n",
       " 'second',\n",
       " 'mid',\n",
       " 'left',\n",
       " 'an',\n",
       " 'now',\n",
       " 'count',\n",
       " 'use',\n",
       " 'leopard',\n",
       " 'off',\n",
       " 'common',\n",
       " 'where',\n",
       " 'world',\n",
       " 'moved',\n",
       " 'animals',\n",
       " 'you',\n",
       " 'factory',\n",
       " 'faint',\n",
       " 'information',\n",
       " 'domesticated',\n",
       " 'wild',\n",
       " 'editions',\n",
       " 'not',\n",
       " 'received',\n",
       " 'separate',\n",
       " 'file',\n",
       " 'every',\n",
       " 'drive',\n",
       " 'can',\n",
       " 'was',\n",
       " 'genus',\n",
       " 'arguments',\n",
       " 'release',\n",
       " 'ears',\n",
       " 'people',\n",
       " 'also',\n",
       " 'learned',\n",
       " 'their',\n",
       " 'simply',\n",
       " 'instead',\n",
       " 'deliberately',\n",
       " 'processors',\n",
       " 'started',\n",
       " 'concatenate',\n",
       " 'any',\n",
       " 'purchase',\n",
       " 'size',\n",
       " 'kg',\n",
       " 'version',\n",
       " 'symbols',\n",
       " 'releasing',\n",
       " 'most',\n",
       " 'successor',\n",
       " 'new',\n",
       " 'organisms',\n",
       " 'often',\n",
       " 'receives',\n",
       " 'since',\n",
       " 'commands',\n",
       " 'part',\n",
       " 'just',\n",
       " 'download',\n",
       " 'three',\n",
       " 'pipes',\n",
       " 'of',\n",
       " 'won',\n",
       " 'during',\n",
       " 'domestic',\n",
       " 'will',\n",
       " 'when',\n",
       " 'contains',\n",
       " 'command',\n",
       " 'clear',\n",
       " 'computers',\n",
       " 'closest',\n",
       " 'typically',\n",
       " 'community',\n",
       " 'vermin',\n",
       " 'starting',\n",
       " 'basic',\n",
       " 'fifth',\n",
       " 'ancestor',\n",
       " 'installed',\n",
       " 'releases',\n",
       " 't',\n",
       " 'has',\n",
       " 'entirely',\n",
       " 'they',\n",
       " 'it',\n",
       " 'symbol',\n",
       " 'store',\n",
       " 'comparison',\n",
       " 'needing',\n",
       " 'in',\n",
       " 'small',\n",
       " 'high',\n",
       " 'some',\n",
       " 'predators',\n",
       " 'installs',\n",
       " 'switch',\n",
       " 'two',\n",
       " 'permanently',\n",
       " 'according',\n",
       " 'apple',\n",
       " 'are',\n",
       " 'weighing',\n",
       " 'undergone',\n",
       " 'os',\n",
       " 'create',\n",
       " 'tiger',\n",
       " 'standard',\n",
       " 'read',\n",
       " 'recent',\n",
       " 'bytes',\n",
       " 'lb',\n",
       " 'predecessor',\n",
       " 'x',\n",
       " 'may',\n",
       " 'unix',\n",
       " 'lion',\n",
       " 'incremental',\n",
       " 'external',\n",
       " 'single',\n",
       " 'run',\n",
       " 'diploid',\n",
       " 'default',\n",
       " 'lines',\n",
       " 'over',\n",
       " 'genes',\n",
       " 'safer',\n",
       " 'process',\n",
       " 'right',\n",
       " 'online',\n",
       " 'mice',\n",
       " 's',\n",
       " 'mavericks',\n",
       " 'with',\n",
       " 'one',\n",
       " 'from',\n",
       " 'type',\n",
       " 'dogs',\n",
       " 'be',\n",
       " 'time',\n",
       " 'tamed',\n",
       " 'app',\n",
       " 'offered',\n",
       " 'for',\n",
       " 'if',\n",
       " 'later',\n",
       " 'error',\n",
       " 'upgrade',\n",
       " 'both',\n",
       " 'to',\n",
       " 'such',\n",
       " 'without',\n",
       " 'major',\n",
       " 'marks',\n",
       " 'wrong',\n",
       " 'disk',\n",
       " 'longer',\n",
       " 'connected',\n",
       " 'human',\n",
       " 'roughly',\n",
       " 'update',\n",
       " 'concern',\n",
       " 'need',\n",
       " 'redirection',\n",
       " 'catenates',\n",
       " 'flow']"
      ]
     },
     "execution_count": 111,
     "metadata": {},
     "output_type": "execute_result"
    }
   ],
   "source": [
    "words"
   ]
  },
  {
   "cell_type": "code",
   "execution_count": 110,
   "metadata": {
    "scrolled": true
   },
   "outputs": [
    {
     "data": {
      "text/plain": [
       "['in comparison to dogs  cats have not undergone major changes during the domestication process ',\n",
       " 'as cat simply catenates streams of bytes  it can be also used to concatenate binary files  where it will just concatenate sequence of bytes ',\n",
       " 'a common interactive use of cat for a single file is to output the content of a file to standard output ',\n",
       " 'cats can hear sounds too faint or too high in frequency for human ears  such as those made by mice and other small animals ',\n",
       " 'in one  people deliberately tamed cats in a process of artificial selection  as they were useful predators of vermin ',\n",
       " 'the domesticated cat and its closest wild ancestor are both diploid organisms that possess    chromosomes and roughly        genes ',\n",
       " 'domestic cats are similar in size to the other members of the genus felis  typically weighing between   and   kg      and      lb  ',\n",
       " 'however  if the output is piped or redirected  cat is unnecessary ',\n",
       " 'cat with one named file is safer where human error is a concern   one wrong use of the default redirection symbol     instead of      often adjacent on keyboards  may permanently delete the file you were just needing to read ',\n",
       " 'in terms of legibility  a sequence of commands starting with cat and connected by pipes has a clear left to right flow of information ',\n",
       " 'cat command is one of the basic commands that you learned when you started in the unix   linux world ',\n",
       " 'using cat command  the lines received from stdin can be redirected to a new file using redirection symbols ',\n",
       " 'when you type simply cat command without any arguments  it just receives the stdin content and displays it in the stdout ',\n",
       " 'leopard was released on october          as the successor of tiger  version        and is available in two editions ',\n",
       " 'according to apple  leopard contains over     changes and enhancements over its predecessor  mac os x tiger ',\n",
       " 'as of mid       some apple computers have firmware factory installed which will no longer allow installation of mac os x leopard ',\n",
       " 'since apple moved to using intel processors in their computers  the osx   community has developed and now also allows mac os x tiger and later releases to be installed on non apple x   based computers ',\n",
       " 'os x mountain lion was released on july          for purchase and download through apple s mac app store  as part of a switch to releasing os x versions online and every year ',\n",
       " 'apple has released a small patch for the three most recent versions of safari running on os x yosemite  mavericks  and mountain lion ',\n",
       " 'the mountain lion release marks the second time apple has offered an incremental upgrade  rather than releasing a new cat entirely ',\n",
       " 'mac os x mountain lion installs in place  so you won t need to create a separate disk or run the installation off an external drive ',\n",
       " 'the fifth major update to mac os x  leopard  contains such a mountain of features   more than     by apple s count ']"
      ]
     },
     "execution_count": 110,
     "metadata": {},
     "output_type": "execute_result"
    }
   ],
   "source": [
    "mass_senc"
   ]
  },
  {
   "cell_type": "code",
   "execution_count": 131,
   "metadata": {},
   "outputs": [],
   "source": [
    "df = pd.DataFrame()"
   ]
  },
  {
   "cell_type": "code",
   "execution_count": 247,
   "metadata": {},
   "outputs": [],
   "source": [
    "lst = defaultdict(list)"
   ]
  },
  {
   "cell_type": "code",
   "execution_count": 248,
   "metadata": {
    "scrolled": true
   },
   "outputs": [],
   "source": [
    "for j in words:\n",
    "    for i in mass_senc:\n",
    "        lst[j].append(len(re.findall(r'\\b({0})\\b'.format(j), i)))"
   ]
  },
  {
   "cell_type": "code",
   "execution_count": 249,
   "metadata": {},
   "outputs": [],
   "source": [
    "df = pd.DataFrame(data=lst)"
   ]
  },
  {
   "cell_type": "code",
   "execution_count": 250,
   "metadata": {
    "scrolled": true
   },
   "outputs": [
    {
     "data": {
      "text/plain": [
       "cats             1\n",
       "to               1\n",
       "during           1\n",
       "domestication    1\n",
       "the              1\n",
       "undergone        1\n",
       "in               1\n",
       "have             1\n",
       "comparison       1\n",
       "process          1\n",
       "not              1\n",
       "major            1\n",
       "changes          1\n",
       "dogs             1\n",
       "osx              0\n",
       "through          0\n",
       "flow             0\n",
       "so               0\n",
       "july             0\n",
       "second           0\n",
       "mid              0\n",
       "left             0\n",
       "features         0\n",
       "mac              0\n",
       "on               0\n",
       "redirected       0\n",
       "firmware         0\n",
       "similar          0\n",
       "chromosomes      0\n",
       "enhancements     0\n",
       "Name: 0, dtype: int64"
      ]
     },
     "execution_count": 250,
     "metadata": {},
     "output_type": "execute_result"
    }
   ],
   "source": [
    "df.iloc[0,:].sort_values(ascending=False).head(30)"
   ]
  },
  {
   "cell_type": "code",
   "execution_count": 252,
   "metadata": {
    "scrolled": true
   },
   "outputs": [
    {
     "data": {
      "text/html": [
       "<div>\n",
       "<style scoped>\n",
       "    .dataframe tbody tr th:only-of-type {\n",
       "        vertical-align: middle;\n",
       "    }\n",
       "\n",
       "    .dataframe tbody tr th {\n",
       "        vertical-align: top;\n",
       "    }\n",
       "\n",
       "    .dataframe thead th {\n",
       "        text-align: right;\n",
       "    }\n",
       "</style>\n",
       "<table border=\"1\" class=\"dataframe\">\n",
       "  <thead>\n",
       "    <tr style=\"text-align: right;\">\n",
       "      <th></th>\n",
       "      <th>streams</th>\n",
       "      <th>stdin</th>\n",
       "      <th>allows</th>\n",
       "      <th>used</th>\n",
       "      <th>frequency</th>\n",
       "      <th>selection</th>\n",
       "      <th>between</th>\n",
       "      <th>unnecessary</th>\n",
       "      <th>running</th>\n",
       "      <th>felis</th>\n",
       "      <th>...</th>\n",
       "      <th>longer</th>\n",
       "      <th>connected</th>\n",
       "      <th>human</th>\n",
       "      <th>roughly</th>\n",
       "      <th>update</th>\n",
       "      <th>concern</th>\n",
       "      <th>need</th>\n",
       "      <th>redirection</th>\n",
       "      <th>catenates</th>\n",
       "      <th>flow</th>\n",
       "    </tr>\n",
       "  </thead>\n",
       "  <tbody>\n",
       "    <tr>\n",
       "      <th>0</th>\n",
       "      <td>0</td>\n",
       "      <td>0</td>\n",
       "      <td>0</td>\n",
       "      <td>0</td>\n",
       "      <td>0</td>\n",
       "      <td>0</td>\n",
       "      <td>0</td>\n",
       "      <td>0</td>\n",
       "      <td>0</td>\n",
       "      <td>0</td>\n",
       "      <td>...</td>\n",
       "      <td>0</td>\n",
       "      <td>0</td>\n",
       "      <td>0</td>\n",
       "      <td>0</td>\n",
       "      <td>0</td>\n",
       "      <td>0</td>\n",
       "      <td>0</td>\n",
       "      <td>0</td>\n",
       "      <td>0</td>\n",
       "      <td>0</td>\n",
       "    </tr>\n",
       "    <tr>\n",
       "      <th>1</th>\n",
       "      <td>1</td>\n",
       "      <td>0</td>\n",
       "      <td>0</td>\n",
       "      <td>1</td>\n",
       "      <td>0</td>\n",
       "      <td>0</td>\n",
       "      <td>0</td>\n",
       "      <td>0</td>\n",
       "      <td>0</td>\n",
       "      <td>0</td>\n",
       "      <td>...</td>\n",
       "      <td>0</td>\n",
       "      <td>0</td>\n",
       "      <td>0</td>\n",
       "      <td>0</td>\n",
       "      <td>0</td>\n",
       "      <td>0</td>\n",
       "      <td>0</td>\n",
       "      <td>0</td>\n",
       "      <td>1</td>\n",
       "      <td>0</td>\n",
       "    </tr>\n",
       "    <tr>\n",
       "      <th>2</th>\n",
       "      <td>0</td>\n",
       "      <td>0</td>\n",
       "      <td>0</td>\n",
       "      <td>0</td>\n",
       "      <td>0</td>\n",
       "      <td>0</td>\n",
       "      <td>0</td>\n",
       "      <td>0</td>\n",
       "      <td>0</td>\n",
       "      <td>0</td>\n",
       "      <td>...</td>\n",
       "      <td>0</td>\n",
       "      <td>0</td>\n",
       "      <td>0</td>\n",
       "      <td>0</td>\n",
       "      <td>0</td>\n",
       "      <td>0</td>\n",
       "      <td>0</td>\n",
       "      <td>0</td>\n",
       "      <td>0</td>\n",
       "      <td>0</td>\n",
       "    </tr>\n",
       "    <tr>\n",
       "      <th>3</th>\n",
       "      <td>0</td>\n",
       "      <td>0</td>\n",
       "      <td>0</td>\n",
       "      <td>0</td>\n",
       "      <td>1</td>\n",
       "      <td>0</td>\n",
       "      <td>0</td>\n",
       "      <td>0</td>\n",
       "      <td>0</td>\n",
       "      <td>0</td>\n",
       "      <td>...</td>\n",
       "      <td>0</td>\n",
       "      <td>0</td>\n",
       "      <td>1</td>\n",
       "      <td>0</td>\n",
       "      <td>0</td>\n",
       "      <td>0</td>\n",
       "      <td>0</td>\n",
       "      <td>0</td>\n",
       "      <td>0</td>\n",
       "      <td>0</td>\n",
       "    </tr>\n",
       "    <tr>\n",
       "      <th>4</th>\n",
       "      <td>0</td>\n",
       "      <td>0</td>\n",
       "      <td>0</td>\n",
       "      <td>0</td>\n",
       "      <td>0</td>\n",
       "      <td>1</td>\n",
       "      <td>0</td>\n",
       "      <td>0</td>\n",
       "      <td>0</td>\n",
       "      <td>0</td>\n",
       "      <td>...</td>\n",
       "      <td>0</td>\n",
       "      <td>0</td>\n",
       "      <td>0</td>\n",
       "      <td>0</td>\n",
       "      <td>0</td>\n",
       "      <td>0</td>\n",
       "      <td>0</td>\n",
       "      <td>0</td>\n",
       "      <td>0</td>\n",
       "      <td>0</td>\n",
       "    </tr>\n",
       "  </tbody>\n",
       "</table>\n",
       "<p>5 rows × 254 columns</p>\n",
       "</div>"
      ],
      "text/plain": [
       "   streams  stdin  allows  used  frequency  selection  between  unnecessary  \\\n",
       "0        0      0       0     0          0          0        0            0   \n",
       "1        1      0       0     1          0          0        0            0   \n",
       "2        0      0       0     0          0          0        0            0   \n",
       "3        0      0       0     0          1          0        0            0   \n",
       "4        0      0       0     0          0          1        0            0   \n",
       "\n",
       "   running  felis  ...  longer  connected  human  roughly  update  concern  \\\n",
       "0        0      0  ...       0          0      0        0       0        0   \n",
       "1        0      0  ...       0          0      0        0       0        0   \n",
       "2        0      0  ...       0          0      0        0       0        0   \n",
       "3        0      0  ...       0          0      1        0       0        0   \n",
       "4        0      0  ...       0          0      0        0       0        0   \n",
       "\n",
       "   need  redirection  catenates  flow  \n",
       "0     0            0          0     0  \n",
       "1     0            0          1     0  \n",
       "2     0            0          0     0  \n",
       "3     0            0          0     0  \n",
       "4     0            0          0     0  \n",
       "\n",
       "[5 rows x 254 columns]"
      ]
     },
     "execution_count": 252,
     "metadata": {},
     "output_type": "execute_result"
    }
   ],
   "source": [
    "df.head()"
   ]
  },
  {
   "cell_type": "code",
   "execution_count": 253,
   "metadata": {},
   "outputs": [],
   "source": [
    "res = {}"
   ]
  },
  {
   "cell_type": "code",
   "execution_count": 254,
   "metadata": {},
   "outputs": [
    {
     "name": "stdout",
     "output_type": "stream",
     "text": [
      "Расстояние 1 предложения: 0.9527544408738466\n",
      "Расстояние 2 предложения: 0.8644738145642124\n",
      "Расстояние 3 предложения: 0.8951715163278082\n",
      "Расстояние 4 предложения: 0.7770887149698589\n",
      "Расстояние 5 предложения: 0.9402385695332803\n",
      "Расстояние 6 предложения: 0.7327387580875756\n",
      "Расстояние 7 предложения: 0.9258750683338899\n",
      "Расстояние 8 предложения: 0.8842724875284311\n",
      "Расстояние 9 предложения: 0.9055088817476932\n",
      "Расстояние 10 предложения: 0.8328165362273942\n",
      "Расстояние 11 предложения: 0.8804771390665607\n",
      "Расстояние 12 предложения: 0.8396432548525454\n",
      "Расстояние 13 предложения: 0.8703592552895671\n",
      "Расстояние 14 предложения: 0.8740118423302576\n",
      "Расстояние 15 предложения: 0.9442721787424647\n",
      "Расстояние 16 предложения: 0.8406361854220809\n",
      "Расстояние 17 предложения: 0.956644501523794\n",
      "Расстояние 18 предложения: 0.9442721787424647\n",
      "Расстояние 19 предложения: 0.8885443574849294\n",
      "Расстояние 20 предложения: 0.8427572744917122\n",
      "Расстояние 21 предложения: 0.8250364469440588\n"
     ]
    }
   ],
   "source": [
    "for i in range(1, len(df)):\n",
    "    res[i] = (distance.cosine(df.iloc[0], df.iloc[i]))\n",
    "    print(f'Расстояние {i} предложения: {distance.cosine(df.iloc[0], df.iloc[i])}')"
   ]
  },
  {
   "cell_type": "code",
   "execution_count": 255,
   "metadata": {},
   "outputs": [
    {
     "data": {
      "text/plain": [
       "[(6, 0.7327387580875756),\n",
       " (4, 0.7770887149698589),\n",
       " (21, 0.8250364469440588),\n",
       " (10, 0.8328165362273942),\n",
       " (12, 0.8396432548525454),\n",
       " (16, 0.8406361854220809),\n",
       " (20, 0.8427572744917122),\n",
       " (2, 0.8644738145642124),\n",
       " (13, 0.8703592552895671),\n",
       " (14, 0.8740118423302576),\n",
       " (11, 0.8804771390665607),\n",
       " (8, 0.8842724875284311),\n",
       " (19, 0.8885443574849294),\n",
       " (3, 0.8951715163278082),\n",
       " (9, 0.9055088817476932),\n",
       " (7, 0.9258750683338899),\n",
       " (5, 0.9402385695332803),\n",
       " (15, 0.9442721787424647),\n",
       " (18, 0.9442721787424647),\n",
       " (1, 0.9527544408738466),\n",
       " (17, 0.956644501523794)]"
      ]
     },
     "execution_count": 255,
     "metadata": {},
     "output_type": "execute_result"
    }
   ],
   "source": [
    "sorted(res.items(), key=lambda x : x[1])"
   ]
  },
  {
   "cell_type": "code",
   "execution_count": null,
   "metadata": {},
   "outputs": [],
   "source": []
  }
 ],
 "metadata": {
  "kernelspec": {
   "display_name": "Python 3",
   "language": "python",
   "name": "python3"
  },
  "language_info": {
   "codemirror_mode": {
    "name": "ipython",
    "version": 3
   },
   "file_extension": ".py",
   "mimetype": "text/x-python",
   "name": "python",
   "nbconvert_exporter": "python",
   "pygments_lexer": "ipython3",
   "version": "3.8.6"
  }
 },
 "nbformat": 4,
 "nbformat_minor": 4
}
